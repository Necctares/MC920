{
  "nbformat": 4,
  "nbformat_minor": 0,
  "metadata": {
    "colab": {
      "name": "Trab3.ipynb",
      "provenance": [],
      "collapsed_sections": []
    },
    "kernelspec": {
      "name": "python3",
      "display_name": "Python 3"
    },
    "language_info": {
      "name": "python"
    }
  },
  "cells": [
    {
      "cell_type": "code",
      "metadata": {
        "id": "pToo_R6wwN1l"
      },
      "source": [
        "import cv2\n",
        "import numpy as np\n",
        "import math\n",
        "import matplotlib.pyplot as plt\n",
        "from google.colab.patches import cv2_imshow\n",
        "import gc"
      ],
      "execution_count": null,
      "outputs": []
    },
    {
      "cell_type": "code",
      "metadata": {
        "id": "eciolD3u_dsi"
      },
      "source": [
        "def pegarContorno(img, limiar):\n",
        "  thresh_img = img\n",
        "  thresh_img[thresh_img<limiar] = 0\n",
        "  contorno, _ = cv2.findContours(thresh_img, cv2.RETR_TREE, cv2.CHAIN_APPROX_SIMPLE)\n",
        "  img_contorno = np.ones(img.shape+(3,))*255\n",
        "  cv2.drawContours(img_contorno, contorno[1:], -1, (0,0,255), 2)\n",
        "  return img_contorno, thresh_img, contorno"
      ],
      "execution_count": null,
      "outputs": []
    },
    {
      "cell_type": "code",
      "metadata": {
        "id": "M_nuKzONyGhE"
      },
      "source": [
        "def calcularExcentricidade(momento):\n",
        "  a1 = (momento['mu20']+momento['mu02'])/2\n",
        "  a2 = np.sqrt(4*momento['mu11']**2+(momento['mu20']-momento['mu02'])**2)/2\n",
        "  minor_axis = a1-a2\n",
        "  major_axis = a1+a2\n",
        "  return np.sqrt(1-minor_axis/major_axis)"
      ],
      "execution_count": null,
      "outputs": []
    },
    {
      "cell_type": "code",
      "metadata": {
        "id": "nZXncIegzEU8"
      },
      "source": [
        "def extrairPropriedades(contorno, img_contorno):\n",
        "  i = 1\n",
        "  cores = [(204,204,255),(204,229,255),(204,255,255),(204,255,229),(204,255,204),(229,255,204),(255,255,204),(255,229,204),(255,204,229),(229,204,255)]\n",
        "  info = []\n",
        "  areas = []\n",
        "  obj_pequeno = 0\n",
        "  obj_medio = 0\n",
        "  obj_grande = 0\n",
        "  for cnt_atual in contorno[1:]:\n",
        "    #Calculo da Area e perimetro\n",
        "    area = cv2.contourArea(cnt_atual)\n",
        "    areas.append(area)\n",
        "    perimetro = cv2.arcLength(cnt_atual,True)\n",
        "\n",
        "    #Calculo da excentricidade\n",
        "    momento = cv2.moments(cnt_atual)\n",
        "    excentricidade = calcularExcentricidade(momento)\n",
        "    print(excentricidade)\n",
        "\n",
        "    #Calculo da solidez\n",
        "    casca = cv2.convexHull(cnt_atual)\n",
        "    areaDaCasca = cv2.contourArea(casca)\n",
        "    solidez = area/areaDaCasca\n",
        "\n",
        "    #Pega o centroide do contorno\n",
        "    cx = int(momento['m10']/momento['m00'])\n",
        "    cy = int(momento['m01']/momento['m00'])\n",
        "    #Preenche o contorno\n",
        "    cv2.drawContours(img_contorno, contorno, i, cores[i%len(cores)], -1)\n",
        "    #Escreve a sua respectiva numeração\n",
        "    cv2.putText(img_contorno, str(i-1), (cx,cy), cv2.FONT_HERSHEY_SIMPLEX, 0.4 ,(0,0,0))\n",
        "    i += 1\n",
        "    if area < 1500:\n",
        "      obj_pequeno += 1\n",
        "    elif area >= 1500 and area < 3000:\n",
        "      obj_medio += 1\n",
        "    else:\n",
        "      obj_grande += 1\n",
        "  plt.hist(areas, bins=[0,1500,3000, max(max(areas),4500)], color='crimson', lw=2, ec='black')\n",
        "  plt.ylabel('Numero de Objetos')\n",
        "  plt.xlabel('Área')\n",
        "  plt.title('Histograma de areas dos objetos')\n",
        "  return"
      ],
      "execution_count": null,
      "outputs": []
    },
    {
      "cell_type": "code",
      "metadata": {
        "colab": {
          "base_uri": "https://localhost:8080/",
          "height": 1000
        },
        "id": "QKe9rz5wwa-E",
        "outputId": "1e8ad0e7-346c-430c-c894-8267115cb580"
      },
      "source": [
        "img = cv2.imread('/content/objetos3.png', cv2.IMREAD_GRAYSCALE)\n",
        "cv2_imshow(img)\n",
        "img_cnt, ti, cnt = pegarContorno(img, 255)\n",
        "cv2_imshow(img_cnt)\n",
        "cv2_imshow(ti)\n",
        "imgc = np.ones(img.shape+(3,))*255\n",
        "extrairPropriedades(cnt, imgc)\n",
        "cv2_imshow(imgc)\n",
        "gc.collect()"
      ],
      "execution_count": null,
      "outputs": [
        {
          "output_type": "display_data",
          "data": {
            "image/png": "[encoded data removed]",
            "text/plain": [
              "<PIL.Image.Image image mode=L size=238x238 at 0x7F168C6E0F90>"
            ]
          },
          "metadata": {
            "tags": []
          }
        },
        {
          "output_type": "display_data",
          "data": {
            "image/png": "[encoded data removed]",
            "text/plain": [
              "<PIL.Image.Image image mode=RGB size=238x238 at 0x7F168C1F6650>"
            ]
          },
          "metadata": {
            "tags": []
          }
        },
        {
          "output_type": "display_data",
          "data": {
            "image/png": "[encoded data removed]",
            "text/plain": [
              "<PIL.Image.Image image mode=L size=238x238 at 0x7F168C1978D0>"
            ]
          },
          "metadata": {
            "tags": []
          }
        },
        {
          "output_type": "stream",
          "text": [
            "0.6105304464552957\n",
            "0.9082246167111018\n",
            "0.8827037926789457\n",
            "0.8642784962976751\n",
            "0.8505703620559334\n",
            "0.8829175264709718\n",
            "0.8962339635032489\n",
            "0.7351461568352116\n",
            "0.813036423809163\n"
          ],
          "name": "stdout"
        },
        {
          "output_type": "display_data",
          "data": {
            "image/png": "[encoded data removed]",
            "text/plain": [
              "<PIL.Image.Image image mode=RGB size=238x238 at 0x7F168C1DF5D0>"
            ]
          },
          "metadata": {
            "tags": []
          }
        },
        {
          "output_type": "execute_result",
          "data": {
            "text/plain": [
              "2378"
            ]
          },
          "metadata": {
            "tags": []
          },
          "execution_count": 64
        },
        {
          "output_type": "display_data",
          "data": {
            "image/png": "[encoded data removed]",
            "text/plain": [
              "<Figure size 432x288 with 1 Axes>"
            ]
          },
          "metadata": {
            "tags": [],
            "needs_background": "light"
          }
        }
      ]
    }
  ]
}